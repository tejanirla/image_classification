{
  "nbformat": 4,
  "nbformat_minor": 0,
  "metadata": {
    "colab": {
      "name": "transfer_learning_v2",
      "provenance": [],
      "collapsed_sections": []
    },
    "kernelspec": {
      "name": "python3",
      "display_name": "Python 3"
    },
    "accelerator": "GPU"
  },
  "cells": [
    {
      "cell_type": "markdown",
      "metadata": {
        "id": "37EY-Vx3MdjK",
        "colab_type": "text"
      },
      "source": [
        "#Transfer Learning using Inception-v3 for Image Classification"
      ]
    },
    {
      "cell_type": "markdown",
      "metadata": {
        "id": "yY2J1QQdNB4z",
        "colab_type": "text"
      },
      "source": [
        "In my [previous post](https://https://medium.com/analytics-vidhya/end-to-end-image-classification-project-using-tensorflow-46e78298fa2f), I worked on a subset of the original Dogs vs. Cats [Dataset](https://https://www.kaggle.com/c/dogs-vs-cats/data) (3000 images sampled from the original dataset of 25000 images) to build an image classifier capable of classifying images of Dogs and Cats with 82% accuracy."
      ]
    },
    {
      "cell_type": "markdown",
      "metadata": {
        "id": "uZipJHpCN9-l",
        "colab_type": "text"
      },
      "source": [
        "This project is in continuation with the previous one where we try to improve our performance even further.\n",
        "\n",
        "When we have a relatively small dataset, a super effective technique is to use **Transfer Learning** where we use a pre-trained model. This model has been trained on an extremely large dataset, and we would be able to transfer weights which were learned through hundreds of hours of training on multiple high powered GPUs.\n",
        "\n",
        "Many such models are open sourced such as VGG-19 and Inception-v3. They were trained on millions of images with extremely high computing power which can be very expensive to achieve from scratch.\n",
        "\n",
        "We are using the **Inception-v3** model in the project.\n",
        "\n",
        "Transfer Learning has become immensely popular because it considerably reduces training time, and requires a lot less data to train on to increase performance."
      ]
    },
    {
      "cell_type": "markdown",
      "metadata": {
        "id": "qq5svPkSUPTl",
        "colab_type": "text"
      },
      "source": [
        "**Get the Data** (subset)"
      ]
    },
    {
      "cell_type": "code",
      "metadata": {
        "id": "EGCYLYfmUUi0",
        "colab_type": "code",
        "outputId": "60a824c8-71b1-4efe-b1a2-dea1aafb739c",
        "colab": {
          "base_uri": "https://localhost:8080/",
          "height": 212
        }
      },
      "source": [
        "!wget --no-check-certificate \\\n",
        "    https://storage.googleapis.com/mledu-datasets/cats_and_dogs_filtered.zip \\\n",
        "    -O /tmp/cats_and_dogs_filtered.zip"
      ],
      "execution_count": 0,
      "outputs": [
        {
          "output_type": "stream",
          "text": [
            "--2019-10-03 02:03:39--  https://storage.googleapis.com/mledu-datasets/cats_and_dogs_filtered.zip\n",
            "Resolving storage.googleapis.com (storage.googleapis.com)... 64.233.166.128, 2a00:1450:400c:c07::80\n",
            "Connecting to storage.googleapis.com (storage.googleapis.com)|64.233.166.128|:443... connected.\n",
            "HTTP request sent, awaiting response... 200 OK\n",
            "Length: 68606236 (65M) [application/zip]\n",
            "Saving to: ‘/tmp/cats_and_dogs_filtered.zip’\n",
            "\n",
            "/tmp/cats_and_dogs_ 100%[===================>]  65.43M  32.6MB/s    in 2.0s    \n",
            "\n",
            "2019-10-03 02:03:46 (32.6 MB/s) - ‘/tmp/cats_and_dogs_filtered.zip’ saved [68606236/68606236]\n",
            "\n"
          ],
          "name": "stdout"
        }
      ]
    },
    {
      "cell_type": "markdown",
      "metadata": {
        "id": "PVKTs6_LUizi",
        "colab_type": "text"
      },
      "source": [
        "**Import Libraries**"
      ]
    },
    {
      "cell_type": "code",
      "metadata": {
        "id": "r8VU6BS4Un97",
        "colab_type": "code",
        "colab": {}
      },
      "source": [
        "import os\n",
        "import zipfile\n",
        "import tensorflow as tf\n",
        "from tensorflow.keras.optimizers import RMSprop\n",
        "from tensorflow.keras.preprocessing.image import ImageDataGenerator\n",
        "from tensorflow.keras import layers\n",
        "from tensorflow.keras import Model"
      ],
      "execution_count": 0,
      "outputs": []
    },
    {
      "cell_type": "markdown",
      "metadata": {
        "id": "c9FO-SNdUupe",
        "colab_type": "text"
      },
      "source": [
        "The os library gives us access to the file system, and the zipfile library allows us to unzip the data."
      ]
    },
    {
      "cell_type": "markdown",
      "metadata": {
        "id": "I5zahep4Ux7y",
        "colab_type": "text"
      },
      "source": [
        "**Create the respective directories**"
      ]
    },
    {
      "cell_type": "code",
      "metadata": {
        "id": "-LpXqsLrUrUU",
        "colab_type": "code",
        "colab": {}
      },
      "source": [
        "local_zip = '/tmp/cats_and_dogs_filtered.zip'\n",
        "zip_ref = zipfile.ZipFile(local_zip, 'r')\n",
        "zip_ref.extractall('/tmp')\n",
        "zip_ref.close()\n",
        "\n",
        "base_dir = '/tmp/cats_and_dogs_filtered'\n",
        "train_dir = os.path.join(base_dir, 'train')\n",
        "validation_dir = os.path.join(base_dir, 'validation')\n",
        "\n",
        "# Directory with our training cat pictures\n",
        "train_cats_dir = os.path.join(train_dir, 'cats')\n",
        "\n",
        "# Directory with our training dog pictures\n",
        "train_dogs_dir = os.path.join(train_dir, 'dogs')\n",
        "\n",
        "# Directory with our validation cat pictures\n",
        "validation_cats_dir = os.path.join(validation_dir, 'cats')\n",
        "\n",
        "# Directory with our validation dog pictures\n",
        "validation_dogs_dir = os.path.join(validation_dir, 'dogs')"
      ],
      "execution_count": 0,
      "outputs": []
    },
    {
      "cell_type": "markdown",
      "metadata": {
        "id": "TFM_KRBSUM3o",
        "colab_type": "text"
      },
      "source": [
        "The contents of the .zip are extracted to the base directory /tmp/cats_and_dogs_filtered.zip"
      ]
    },
    {
      "cell_type": "markdown",
      "metadata": {
        "id": "eHvApdQVjCtR",
        "colab_type": "text"
      },
      "source": [
        "**Examples**"
      ]
    },
    {
      "cell_type": "code",
      "metadata": {
        "id": "3Kq_Z52cjGeX",
        "colab_type": "code",
        "colab": {}
      },
      "source": [
        "# Set up matplotlib fig, and size it to fit 4x4 pics\n",
        "import matplotlib.image as mpimg\n",
        "import matplotlib.pyplot as plt\n"
        "nrows = 4\n",
        "ncols = 4\n",
        "\n",
        "fig = plt.gcf()\n",
        "fig.set_size_inches(ncols*4, nrows*4)\n",
        "pic_index = 100\n",
        "train_cat_fnames = os.listdir( train_cats_dir )\n",
        "train_dog_fnames = os.listdir( train_dogs_dir )\n",
        "\n",
        "\n",
        "next_cat_pix = [os.path.join(train_cats_dir, fname) \n",
        "                for fname in train_cat_fnames[ pic_index-8:pic_index] \n",
        "               ]\n",
        "\n",
        "next_dog_pix = [os.path.join(train_dogs_dir, fname) \n",
        "                for fname in train_dog_fnames[ pic_index-8:pic_index]\n",
        "               ]\n",
        "\n",
        "for i, img_path in enumerate(next_cat_pix+next_dog_pix):\n",
        "  # Set up subplot; subplot indices start at 1\n",
        "  sp = plt.subplot(nrows, ncols, i + 1)\n",
        "  sp.axis('Off') # Don't show axes (or gridlines)\n",
        "\n",
        "  img = mpimg.imread(img_path)\n",
        "  plt.imshow(img)\n",
        "\n",
        "plt.show()"
      ],
      "execution_count": 0,
      "outputs": []
    },
    {
      "cell_type": "markdown",
      "metadata": {
        "id": "MhZvaC8KVpZ8",
        "colab_type": "text"
      },
      "source": [
        "**Import the Inception model**\n",
        "\n",
        "We are going to use all the layers in the model except for the last fully connected layer as it is specific to the [ImageNet](https://http://image-net.org/challenges/LSVRC/) competition."
      ]
    },
    {
      "cell_type": "code",
      "metadata": {
        "id": "Xym1QZAdVHJI",
        "colab_type": "code",
        "colab": {}
      },
      "source": [
        "# Import the inception model  \n",
        "from tensorflow.keras.applications.inception_v3 import InceptionV3"
      ],
      "execution_count": 0,
      "outputs": []
    },
    {
      "cell_type": "code",
      "metadata": {
        "id": "SRw5V6ciWw6v",
        "colab_type": "code",
        "outputId": "89de21ee-edaa-4d14-bdee-28411e4051a0",
        "colab": {
          "base_uri": "https://localhost:8080/",
          "height": 126
        }
      },
      "source": [
        "pre_trained_model = InceptionV3(input_shape = (150, 150, 3), # Shape of our images\n",
        "                                include_top = False, # Leave out the last fully connected layer\n",
        "                                weights = 'imagenet')"
      ],
      "execution_count": 0,
      "outputs": [
        {
          "output_type": "stream",
          "text": [
            "WARNING:tensorflow:From /usr/local/lib/python3.6/dist-packages/tensorflow/python/ops/init_ops.py:1251: calling VarianceScaling.__init__ (from tensorflow.python.ops.init_ops) with dtype is deprecated and will be removed in a future version.\n",
            "Instructions for updating:\n",
            "Call initializer instance with the dtype argument instead of passing it to the constructor\n",
            "Downloading data from https://github.com/fchollet/deep-learning-models/releases/download/v0.5/inception_v3_weights_tf_dim_ordering_tf_kernels_notop.h5\n",
            "87916544/87910968 [==============================] - 4s 0us/step\n"
          ],
          "name": "stdout"
        }
      ]
    },
    {
      "cell_type": "markdown",
      "metadata": {
        "id": "LCIDjGoOYFy7",
        "colab_type": "text"
      },
      "source": [
        "Make all the layers non trainable (We can retrain some of the lower layers to increase performance. Keep in mind that this may lead to overfitting)"
      ]
    },
    {
      "cell_type": "code",
      "metadata": {
        "id": "mi44X5E8XBxK",
        "colab_type": "code",
        "colab": {}
      },
      "source": [
        "for layer in pre_trained_model.layers:\n",
        "  layer.trainable = False"
      ],
      "execution_count": 0,
      "outputs": []
    },
    {
      "cell_type": "markdown",
      "metadata": {
        "id": "1GTmunhpZ86y",
        "colab_type": "text"
      },
      "source": [
        "**Define a Callback class that stops training once accuracy reaches 95%**"
      ]
    },
    {
      "cell_type": "code",
      "metadata": {
        "id": "evg3SqLIYZwA",
        "colab_type": "code",
        "colab": {}
      },
      "source": [
        "class myCallback(tf.keras.callbacks.Callback):\n",
        "  def on_epoch_end(self, epoch, logs={}):\n",
        "    if(logs.get('acc')>0.959):\n",
        "      print(\"\\nReached 99.9% accuracy so cancelling training!\")\n",
        "      self.model.stop_training = True"
      ],
      "execution_count": 0,
      "outputs": []
    },
    {
      "cell_type": "markdown",
      "metadata": {
        "id": "BFz-P3yujvM_",
        "colab_type": "text"
      },
      "source": [
        "We use binary_crossentropy as the loss metric as we have 2 target classes (it's a binary classification problem)\n",
        "\n",
        "Our optimizer is **RMSprop** with a learning rate of **0.0001** (We can experiment with this; Adam and Adagrad optimizers would also work well)"
      ]
    },
    {
      "cell_type": "code",
      "metadata": {
        "id": "NcL9JswMYcrD",
        "colab_type": "code",
        "outputId": "ce70442a-a7db-4e9f-a166-6dc3c9fdbddf",
        "colab": {
          "base_uri": "https://localhost:8080/",
          "height": 90
        }
      },
      "source": [
        "from tensorflow.keras.optimizers import RMSprop\n",
        "\n",
        "# Flatten the output layer to 1 dimension\n",
        "x = layers.Flatten()(pre_trained_model.output)\n",
        "# Add a fully connected layer with 1,024 hidden units and ReLU activation\n",
        "x = layers.Dense(1024, activation='relu')(x)\n",
        "# Add a dropout rate of 0.2\n",
        "x = layers.Dropout(0.2)(x)                  \n",
        "# Add a final sigmoid layer for classification\n",
        "x = layers.Dense  (1, activation='sigmoid')(x)           \n",
        "\n",
        "model = Model( pre_trained_model.input, x) \n",
        "\n",
        "model.compile(optimizer = RMSprop(lr=0.0001), \n",
        "              loss = 'binary_crossentropy', \n",
        "              metrics = ['acc'])"
      ],
      "execution_count": 0,
      "outputs": [
        {
          "output_type": "stream",
          "text": [
            "WARNING:tensorflow:From /usr/local/lib/python3.6/dist-packages/tensorflow/python/ops/nn_impl.py:180: add_dispatch_support.<locals>.wrapper (from tensorflow.python.ops.array_ops) is deprecated and will be removed in a future version.\n",
            "Instructions for updating:\n",
            "Use tf.where in 2.0, which has the same broadcast rule as np.where\n"
          ],
          "name": "stdout"
        }
      ]
    },
    {
      "cell_type": "markdown",
      "metadata": {
        "id": "6-w_yJFnkHDs",
        "colab_type": "text"
      },
      "source": [
        "**Rescale the Images**\n",
        "\n",
        "The data generators read pictures in our source folders, convert them to float32 tensors, and feed them (with their labels) to our network. We'll have one generator for the training images and one for the validation images.\n",
        "\n",
        "Input data to the neural networks should be normalized to aid in processing. We will preprocess our images by normalizing the pixel values to be in the [0, 1] range (originally all values are in the [0, 255] range).\n",
        "\n",
        "In Keras this can be done via the **keras.preprocessing.image.ImageDataGenerator** class using the **rescale** parameter. This ImageDataGenerator class allows you to instantiate generators of augmented image batches (and their labels) via .flow(data, labels) or .flow_from_directory(directory). These generators can then be used with the Keras model methods that accept data generators as inputs: fit_generator, evaluate_generator, and predict_generator.\n",
        "\n",
        "\n"
      ]
    },
    {
      "cell_type": "markdown",
      "metadata": {
        "id": "rPrqThWevopv",
        "colab_type": "text"
      },
      "source": [
        "We also perform **Image Augmentation** where we change the images a bit by rotating them, squashing them, etc.\n",
        "\n",
        "We can implement this using the ImageDataGenerator Class\n",
        "\n",
        "\n",
        "\n",
        "```\n",
        "train_datagen = ImageDataGenerator(rescale = 1./255.,\n",
        "                                   rotation_range = 40,\n",
        "                                   width_shift_range = 0.2,\n",
        "                                   height_shift_range = 0.2,\n",
        "                                   shear_range = 0.2,\n",
        "                                   zoom_range = 0.2,\n",
        "                                   horizontal_flip = True)\n",
        "```\n",
        "\n",
        "\n",
        "**Some options that are available:**\n",
        "\n",
        "\n",
        "*   rotation_range is a value in degrees (0–180), a range within which to randomly rotate pictures.\n",
        "*   width_shift and height_shift are ranges (as a fraction of total width or height) within which to randomly translate pictures vertically or horizontally\n",
        "*   shear_range is for randomly applying shearing transformations\n",
        "*   zoom_range is for randomly zooming inside pictures\n",
        "*   horizontal_flip is for randomly flipping half of the images horizontally. This is relevant when there are no assumptions of horizontal assymmetry (e.g. real-world pictures)\n",
        "*   fill_mode is the strategy used for filling in newly created pixels, which can appear after a rotation or a width/height shift"
      ]
    },
    {
      "cell_type": "markdown",
      "metadata": {
        "id": "9IiDv7sDkeil",
        "colab_type": "text"
      },
      "source": [
        "**Flow images in batches of 20 using train _datagen and test_datagen**"
      ]
    },
    {
      "cell_type": "code",
      "metadata": {
        "id": "o3-sSPttZNMq",
        "colab_type": "code",
        "outputId": "55b1da7d-180f-4f5c-ad48-cacfb195f3b8",
        "colab": {
          "base_uri": "https://localhost:8080/",
          "height": 52
        }
      },
      "source": [
        "# Add our data-augmentation parameters to ImageDataGenerator\n",
        "train_datagen = ImageDataGenerator(rescale = 1./255.,\n",
        "                                   rotation_range = 40,\n",
        "                                   width_shift_range = 0.2,\n",
        "                                   height_shift_range = 0.2,\n",
        "                                   shear_range = 0.2,\n",
        "                                   zoom_range = 0.2,\n",
        "                                   horizontal_flip = True)\n",
        "\n",
        "# Note that the validation data should not be augmented!\n",
        "test_datagen = ImageDataGenerator( rescale = 1.0/255. )\n",
        "\n",
        "# Flow training images in batches of 20 using train_datagen generator\n",
        "train_generator = train_datagen.flow_from_directory(train_dir,\n",
        "                                                    batch_size = 20,\n",
        "                                                    class_mode = 'binary', \n",
        "                                                    target_size = (150, 150))     \n",
        "\n",
        "# Flow validation images in batches of 20 using test_datagen generator\n",
        "validation_generator =  test_datagen.flow_from_directory( validation_dir,\n",
        "                                                          batch_size  = 20,\n",
        "                                                          class_mode  = 'binary', \n",
        "                                                          target_size = (150, 150))"
      ],
      "execution_count": 0,
      "outputs": [
        {
          "output_type": "stream",
          "text": [
            "Found 2000 images belonging to 2 classes.\n",
            "Found 1000 images belonging to 2 classes.\n"
          ],
          "name": "stdout"
        }
      ]
    },
    {
      "cell_type": "code",
      "metadata": {
        "id": "0T_zGQmxa4j0",
        "colab_type": "code",
        "outputId": "a12399a4-62d0-4033-c9c2-bca06a8ed325",
        "colab": {
          "base_uri": "https://localhost:8080/",
          "height": 1000
        }
      },
      "source": [
        "callbacks = myCallback()\n",
        "history = model.fit_generator(\n",
        "            train_generator,\n",
        "            validation_data = validation_generator,\n",
        "            steps_per_epoch = 100,\n",
        "            epochs = 100,\n",
        "            validation_steps = 50,\n",
        "            verbose = 2,\n",
        "            callbacks=[callbacks])"
      ],
      "execution_count": 0,
      "outputs": [
        {
          "output_type": "stream",
          "text": [
            "Epoch 1/100\n",
            "100/100 - 30s - loss: 0.8408 - acc: 0.6600 - val_loss: 0.5072 - val_acc: 0.8980\n",
            "Epoch 2/100\n",
            "100/100 - 22s - loss: 0.5530 - acc: 0.7465 - val_loss: 0.5096 - val_acc: 0.9120\n",
            "Epoch 3/100\n",
            "100/100 - 23s - loss: 0.5123 - acc: 0.7750 - val_loss: 0.3867 - val_acc: 0.9130\n",
            "Epoch 4/100\n",
            "100/100 - 22s - loss: 0.4951 - acc: 0.7830 - val_loss: 0.2938 - val_acc: 0.9450\n",
            "Epoch 5/100\n",
            "100/100 - 22s - loss: 0.4643 - acc: 0.7970 - val_loss: 0.3437 - val_acc: 0.9300\n",
            "Epoch 6/100\n",
            "100/100 - 22s - loss: 0.4696 - acc: 0.7840 - val_loss: 0.3296 - val_acc: 0.9490\n",
            "Epoch 7/100\n",
            "100/100 - 23s - loss: 0.4639 - acc: 0.8000 - val_loss: 0.2950 - val_acc: 0.9410\n",
            "Epoch 8/100\n",
            "100/100 - 22s - loss: 0.4756 - acc: 0.7895 - val_loss: 0.3140 - val_acc: 0.9420\n",
            "Epoch 9/100\n",
            "100/100 - 22s - loss: 0.4448 - acc: 0.8070 - val_loss: 0.5217 - val_acc: 0.9300\n",
            "Epoch 10/100\n",
            "100/100 - 22s - loss: 0.4249 - acc: 0.8220 - val_loss: 0.3373 - val_acc: 0.9420\n",
            "Epoch 11/100\n",
            "100/100 - 22s - loss: 0.4430 - acc: 0.8070 - val_loss: 0.5180 - val_acc: 0.9390\n",
            "Epoch 12/100\n",
            "100/100 - 23s - loss: 0.4311 - acc: 0.8085 - val_loss: 0.3781 - val_acc: 0.9510\n",
            "Epoch 13/100\n",
            "100/100 - 22s - loss: 0.4572 - acc: 0.8020 - val_loss: 0.3652 - val_acc: 0.9400\n",
            "Epoch 14/100\n",
            "100/100 - 23s - loss: 0.3947 - acc: 0.8300 - val_loss: 0.7516 - val_acc: 0.9280\n",
            "Epoch 15/100\n",
            "100/100 - 22s - loss: 0.4337 - acc: 0.8175 - val_loss: 0.4961 - val_acc: 0.9410\n",
            "Epoch 16/100\n",
            "100/100 - 22s - loss: 0.4171 - acc: 0.8280 - val_loss: 0.5531 - val_acc: 0.9350\n",
            "Epoch 17/100\n",
            "100/100 - 22s - loss: 0.4196 - acc: 0.8160 - val_loss: 0.8486 - val_acc: 0.9150\n",
            "Epoch 18/100\n",
            "100/100 - 22s - loss: 0.3975 - acc: 0.8240 - val_loss: 0.4264 - val_acc: 0.9440\n",
            "Epoch 19/100\n",
            "100/100 - 22s - loss: 0.4218 - acc: 0.8170 - val_loss: 0.5104 - val_acc: 0.9480\n",
            "Epoch 20/100\n",
            "100/100 - 22s - loss: 0.4084 - acc: 0.8220 - val_loss: 0.5413 - val_acc: 0.9400\n",
            "Epoch 21/100\n",
            "100/100 - 23s - loss: 0.4145 - acc: 0.8235 - val_loss: 0.5091 - val_acc: 0.9410\n",
            "Epoch 22/100\n",
            "100/100 - 22s - loss: 0.4016 - acc: 0.8320 - val_loss: 0.4797 - val_acc: 0.9430\n",
            "Epoch 23/100\n",
            "100/100 - 23s - loss: 0.3740 - acc: 0.8365 - val_loss: 0.5636 - val_acc: 0.9500\n",
            "Epoch 24/100\n",
            "100/100 - 22s - loss: 0.3985 - acc: 0.8170 - val_loss: 1.0831 - val_acc: 0.9170\n",
            "Epoch 25/100\n",
            "100/100 - 23s - loss: 0.3834 - acc: 0.8485 - val_loss: 0.5098 - val_acc: 0.9430\n",
            "Epoch 26/100\n",
            "100/100 - 22s - loss: 0.3551 - acc: 0.8465 - val_loss: 0.6193 - val_acc: 0.9460\n",
            "Epoch 27/100\n",
            "100/100 - 22s - loss: 0.3973 - acc: 0.8470 - val_loss: 0.4760 - val_acc: 0.9540\n",
            "Epoch 28/100\n",
            "100/100 - 22s - loss: 0.3599 - acc: 0.8485 - val_loss: 0.8440 - val_acc: 0.9400\n",
            "Epoch 29/100\n",
            "100/100 - 22s - loss: 0.3900 - acc: 0.8420 - val_loss: 0.5399 - val_acc: 0.9430\n",
            "Epoch 30/100\n",
            "100/100 - 22s - loss: 0.3944 - acc: 0.8435 - val_loss: 0.5028 - val_acc: 0.9450\n",
            "Epoch 31/100\n",
            "100/100 - 22s - loss: 0.3676 - acc: 0.8410 - val_loss: 0.5918 - val_acc: 0.9480\n",
            "Epoch 32/100\n",
            "100/100 - 23s - loss: 0.3808 - acc: 0.8420 - val_loss: 1.2101 - val_acc: 0.9190\n",
            "Epoch 33/100\n",
            "100/100 - 22s - loss: 0.3771 - acc: 0.8380 - val_loss: 0.7106 - val_acc: 0.9460\n",
            "Epoch 34/100\n",
            "100/100 - 23s - loss: 0.3567 - acc: 0.8510 - val_loss: 0.5476 - val_acc: 0.9500\n",
            "Epoch 35/100\n",
            "100/100 - 23s - loss: 0.3721 - acc: 0.8460 - val_loss: 0.4747 - val_acc: 0.9550\n",
            "Epoch 36/100\n",
            "100/100 - 23s - loss: 0.3728 - acc: 0.8385 - val_loss: 0.5418 - val_acc: 0.9450\n",
            "Epoch 37/100\n",
            "100/100 - 22s - loss: 0.3356 - acc: 0.8550 - val_loss: 0.6445 - val_acc: 0.9370\n",
            "Epoch 38/100\n",
            "100/100 - 23s - loss: 0.3596 - acc: 0.8550 - val_loss: 0.7460 - val_acc: 0.9470\n",
            "Epoch 39/100\n",
            "100/100 - 22s - loss: 0.3829 - acc: 0.8385 - val_loss: 0.5276 - val_acc: 0.9530\n",
            "Epoch 40/100\n",
            "100/100 - 23s - loss: 0.3442 - acc: 0.8610 - val_loss: 0.5567 - val_acc: 0.9540\n",
            "Epoch 41/100\n",
            "100/100 - 22s - loss: 0.3450 - acc: 0.8610 - val_loss: 0.5543 - val_acc: 0.9530\n",
            "Epoch 42/100\n",
            "100/100 - 23s - loss: 0.3574 - acc: 0.8570 - val_loss: 0.7422 - val_acc: 0.9340\n",
            "Epoch 43/100\n",
            "100/100 - 22s - loss: 0.3541 - acc: 0.8570 - val_loss: 0.6603 - val_acc: 0.9470\n",
            "Epoch 44/100\n",
            "100/100 - 22s - loss: 0.3389 - acc: 0.8455 - val_loss: 0.6578 - val_acc: 0.9490\n",
            "Epoch 45/100\n",
            "100/100 - 23s - loss: 0.3507 - acc: 0.8575 - val_loss: 0.7999 - val_acc: 0.9460\n",
            "Epoch 46/100\n",
            "100/100 - 22s - loss: 0.3480 - acc: 0.8550 - val_loss: 0.7693 - val_acc: 0.9450\n",
            "Epoch 47/100\n",
            "100/100 - 23s - loss: 0.3302 - acc: 0.8635 - val_loss: 0.8301 - val_acc: 0.9450\n",
            "Epoch 48/100\n",
            "100/100 - 22s - loss: 0.3326 - acc: 0.8610 - val_loss: 0.6792 - val_acc: 0.9530\n",
            "Epoch 49/100\n",
            "100/100 - 23s - loss: 0.3440 - acc: 0.8625 - val_loss: 1.1556 - val_acc: 0.9300\n",
            "Epoch 50/100\n",
            "100/100 - 22s - loss: 0.3412 - acc: 0.8635 - val_loss: 0.7740 - val_acc: 0.9480\n",
            "Epoch 51/100\n",
            "100/100 - 23s - loss: 0.3231 - acc: 0.8695 - val_loss: 0.8721 - val_acc: 0.9390\n",
            "Epoch 52/100\n",
            "100/100 - 22s - loss: 0.3490 - acc: 0.8590 - val_loss: 0.6336 - val_acc: 0.9570\n",
            "Epoch 53/100\n",
            "100/100 - 22s - loss: 0.3467 - acc: 0.8595 - val_loss: 0.6104 - val_acc: 0.9490\n",
            "Epoch 54/100\n",
            "100/100 - 22s - loss: 0.3345 - acc: 0.8655 - val_loss: 0.6591 - val_acc: 0.9500\n",
            "Epoch 55/100\n",
            "100/100 - 22s - loss: 0.3538 - acc: 0.8620 - val_loss: 0.8112 - val_acc: 0.9430\n",
            "Epoch 56/100\n",
            "100/100 - 22s - loss: 0.3270 - acc: 0.8660 - val_loss: 0.6706 - val_acc: 0.9570\n",
            "Epoch 57/100\n",
            "100/100 - 22s - loss: 0.3086 - acc: 0.8735 - val_loss: 0.6575 - val_acc: 0.9540\n",
            "Epoch 58/100\n",
            "100/100 - 23s - loss: 0.3640 - acc: 0.8580 - val_loss: 0.6106 - val_acc: 0.9500\n",
            "Epoch 59/100\n",
            "100/100 - 22s - loss: 0.3410 - acc: 0.8680 - val_loss: 0.6133 - val_acc: 0.9510\n",
            "Epoch 60/100\n",
            "100/100 - 23s - loss: 0.3433 - acc: 0.8645 - val_loss: 0.6050 - val_acc: 0.9560\n",
            "Epoch 61/100\n",
            "100/100 - 23s - loss: 0.3581 - acc: 0.8640 - val_loss: 0.6154 - val_acc: 0.9540\n",
            "Epoch 62/100\n",
            "100/100 - 23s - loss: 0.3437 - acc: 0.8630 - val_loss: 0.7286 - val_acc: 0.9470\n",
            "Epoch 63/100\n",
            "100/100 - 23s - loss: 0.3262 - acc: 0.8685 - val_loss: 0.7962 - val_acc: 0.9420\n",
            "Epoch 64/100\n",
            "100/100 - 22s - loss: 0.3417 - acc: 0.8640 - val_loss: 0.7064 - val_acc: 0.9470\n",
            "Epoch 65/100\n",
            "100/100 - 22s - loss: 0.3058 - acc: 0.8815 - val_loss: 0.7121 - val_acc: 0.9480\n",
            "Epoch 66/100\n",
            "100/100 - 22s - loss: 0.2948 - acc: 0.8840 - val_loss: 0.7378 - val_acc: 0.9510\n",
            "Epoch 67/100\n",
            "100/100 - 22s - loss: 0.3033 - acc: 0.8755 - val_loss: 0.6432 - val_acc: 0.9540\n",
            "Epoch 68/100\n",
            "100/100 - 22s - loss: 0.3292 - acc: 0.8645 - val_loss: 0.7646 - val_acc: 0.9490\n",
            "Epoch 69/100\n",
            "100/100 - 23s - loss: 0.3038 - acc: 0.8825 - val_loss: 0.7142 - val_acc: 0.9480\n",
            "Epoch 70/100\n",
            "100/100 - 22s - loss: 0.2837 - acc: 0.8845 - val_loss: 0.6549 - val_acc: 0.9550\n",
            "Epoch 71/100\n",
            "100/100 - 23s - loss: 0.3446 - acc: 0.8685 - val_loss: 1.2337 - val_acc: 0.9250\n",
            "Epoch 72/100\n",
            "100/100 - 22s - loss: 0.3130 - acc: 0.8700 - val_loss: 0.6764 - val_acc: 0.9510\n",
            "Epoch 73/100\n",
            "100/100 - 23s - loss: 0.3220 - acc: 0.8755 - val_loss: 0.8788 - val_acc: 0.9460\n",
            "Epoch 74/100\n",
            "100/100 - 23s - loss: 0.3089 - acc: 0.8770 - val_loss: 0.7204 - val_acc: 0.9560\n",
            "Epoch 75/100\n",
            "100/100 - 23s - loss: 0.3028 - acc: 0.8770 - val_loss: 0.6802 - val_acc: 0.9520\n",
            "Epoch 76/100\n",
            "100/100 - 22s - loss: 0.3293 - acc: 0.8620 - val_loss: 0.6541 - val_acc: 0.9560\n",
            "Epoch 77/100\n",
            "100/100 - 23s - loss: 0.3039 - acc: 0.8765 - val_loss: 0.6779 - val_acc: 0.9550\n",
            "Epoch 78/100\n",
            "100/100 - 23s - loss: 0.2835 - acc: 0.8775 - val_loss: 0.6914 - val_acc: 0.9500\n",
            "Epoch 79/100\n",
            "100/100 - 23s - loss: 0.2971 - acc: 0.8765 - val_loss: 0.9343 - val_acc: 0.9390\n",
            "Epoch 80/100\n",
            "100/100 - 22s - loss: 0.3040 - acc: 0.8830 - val_loss: 0.6079 - val_acc: 0.9520\n",
            "Epoch 81/100\n",
            "100/100 - 23s - loss: 0.3032 - acc: 0.8715 - val_loss: 0.6551 - val_acc: 0.9570\n",
            "Epoch 82/100\n",
            "100/100 - 22s - loss: 0.3220 - acc: 0.8675 - val_loss: 0.5673 - val_acc: 0.9480\n",
            "Epoch 83/100\n",
            "100/100 - 22s - loss: 0.2735 - acc: 0.8810 - val_loss: 0.7546 - val_acc: 0.9540\n",
            "Epoch 84/100\n",
            "100/100 - 23s - loss: 0.3000 - acc: 0.8805 - val_loss: 0.6749 - val_acc: 0.9580\n",
            "Epoch 85/100\n",
            "100/100 - 22s - loss: 0.2763 - acc: 0.8845 - val_loss: 0.9643 - val_acc: 0.9390\n",
            "Epoch 86/100\n",
            "100/100 - 23s - loss: 0.2892 - acc: 0.8925 - val_loss: 0.7276 - val_acc: 0.9500\n",
            "Epoch 87/100\n",
            "100/100 - 22s - loss: 0.2739 - acc: 0.8860 - val_loss: 0.8202 - val_acc: 0.9500\n",
            "Epoch 88/100\n",
            "100/100 - 23s - loss: 0.2544 - acc: 0.8965 - val_loss: 0.9308 - val_acc: 0.9500\n",
            "Epoch 89/100\n",
            "100/100 - 22s - loss: 0.3240 - acc: 0.8690 - val_loss: 0.8993 - val_acc: 0.9380\n",
            "Epoch 90/100\n",
            "100/100 - 22s - loss: 0.3034 - acc: 0.8760 - val_loss: 0.8042 - val_acc: 0.9490\n",
            "Epoch 91/100\n",
            "100/100 - 23s - loss: 0.2886 - acc: 0.8780 - val_loss: 1.2066 - val_acc: 0.9320\n",
            "Epoch 92/100\n",
            "100/100 - 22s - loss: 0.2777 - acc: 0.8870 - val_loss: 0.9584 - val_acc: 0.9400\n",
            "Epoch 93/100\n",
            "100/100 - 22s - loss: 0.3034 - acc: 0.8825 - val_loss: 2.1935 - val_acc: 0.9000\n",
            "Epoch 94/100\n",
            "100/100 - 22s - loss: 0.2886 - acc: 0.8830 - val_loss: 0.7883 - val_acc: 0.9500\n",
            "Epoch 95/100\n",
            "100/100 - 22s - loss: 0.2717 - acc: 0.8945 - val_loss: 0.9335 - val_acc: 0.9460\n",
            "Epoch 96/100\n",
            "100/100 - 23s - loss: 0.2612 - acc: 0.8985 - val_loss: 0.7933 - val_acc: 0.9510\n",
            "Epoch 97/100\n",
            "100/100 - 22s - loss: 0.2958 - acc: 0.8800 - val_loss: 0.7560 - val_acc: 0.9490\n",
            "Epoch 98/100\n",
            "100/100 - 23s - loss: 0.2858 - acc: 0.8865 - val_loss: 0.7513 - val_acc: 0.9560\n",
            "Epoch 99/100\n",
            "100/100 - 22s - loss: 0.2830 - acc: 0.8910 - val_loss: 0.8382 - val_acc: 0.9510\n",
            "Epoch 100/100\n",
            "100/100 - 23s - loss: 0.2770 - acc: 0.8910 - val_loss: 1.2002 - val_acc: 0.9300\n"
          ],
          "name": "stdout"
        }
      ]
    },
    {
      "cell_type": "markdown",
      "metadata": {
        "id": "yHcu9_-5kTd0",
        "colab_type": "text"
      },
      "source": [
        "We were able to achieve a validation accuracy of **95%**\n",
        "This is the kind of result we were hoping for using **Transfer Learning**; Building upon a pre-trained model and using it in our custom application which was able to achieve great performance after training on just 2000 images."
      ]
    },
    {
      "cell_type": "markdown",
      "metadata": {
        "id": "yX7g5bDZlKEq",
        "colab_type": "text"
      },
      "source": [
        "**Plot Accuracy and Loss**"
      ]
    },
    {
      "cell_type": "code",
      "metadata": {
        "id": "svffv8FfbBBF",
        "colab_type": "code",
        "outputId": "738342f2-2a3e-47f3-ca5d-ffb566318386",
        "colab": {
          "base_uri": "https://localhost:8080/",
          "height": 545
        }
      },
      "source": [
        "import matplotlib.pyplot as plt\n",
        "acc = history.history['acc']\n",
        "val_acc = history.history['val_acc']\n",
        "loss = history.history['loss']\n",
        "val_loss = history.history['val_loss']\n",
        "\n",
        "epochs = range(len(acc))\n",
        "\n",
        "plt.plot(epochs, acc, 'bo', label='Training accuracy')\n",
        "plt.plot(epochs, val_acc, 'b', label='Validation accuracy')\n",
        "plt.title('Training and validation accuracy')\n",
        "\n",
        "plt.figure()\n",
        "\n",
        "plt.plot(epochs, loss, 'bo', label='Training Loss')\n",
        "plt.plot(epochs, val_loss, 'b', label='Validation Loss')\n",
        "plt.title('Training and validation loss')\n",
        "plt.legend()\n",
        "\n",
        "plt.show()"
      ],
      "execution_count": 0,
      "outputs": [
        {
          "output_type": "display_data",
          "data": {
            "image/png": "iVBORw0KGgoAAAANSUhEUgAAAX0AAAEICAYAAACzliQjAAAABHNCSVQICAgIfAhkiAAAAAlwSFlz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\n",
            "text/plain": [
              "<Figure size 432x288 with 1 Axes>"
            ]
          },
          "metadata": {
            "tags": []
          }
        },
        {
          "output_type": "display_data",
          "data": {
            "image/png": "iVBORw0KGgoAAAANSUhEUgAAAX4AAAEICAYAAABYoZ8gAAAABHNCSVQICAgIfAhkiAAAAAlwSFlz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\nHcdxSgwXfsdxnBLDhd9xHKfE+P8GT22Ej40qxwAAAABJRU5ErkJggg==\n",
            "text/plain": [
              "<Figure size 432x288 with 1 Axes>"
            ]
          },
          "metadata": {
            "tags": []
          }
        }
      ]
    },
    {
      "cell_type": "markdown",
      "metadata": {
        "id": "MAiYkPWRlTh3",
        "colab_type": "text"
      },
      "source": [
        "**An approach where we do not use all the layers in the pre-trained model**"
      ]
    },
    {
      "cell_type": "code",
      "metadata": {
        "id": "Zd0WMVVzkmW7",
        "colab_type": "code",
        "outputId": "1c822997-67f0-4c9c-d370-df7491cf81f8",
        "colab": {
          "base_uri": "https://localhost:8080/",
          "height": 35
        }
      },
      "source": [
        "last_layer = pre_trained_model.get_layer('mixed7') #Only use layers including and above 'mixed7'\n",
        "print('last layer output shape: ', last_layer.output_shape)\n",
        "last_output = last_layer.output"
      ],
      "execution_count": 0,
      "outputs": [
        {
          "output_type": "stream",
          "text": [
            "last layer output shape:  (None, 7, 7, 768)\n"
          ],
          "name": "stdout"
        }
      ]
    },
    {
      "cell_type": "code",
      "metadata": {
        "id": "HUHZHqSIlpv5",
        "colab_type": "code",
        "outputId": "10d7b020-97ca-4e5f-d9fd-b8fa47deb092",
        "colab": {
          "base_uri": "https://localhost:8080/",
          "height": 1000
        }
      },
      "source": [
        "last_layer = pre_trained_model.get_layer('mixed7')\n",
        "print('last layer output shape: ', last_layer.output_shape)\n",
        "last_output = last_layer.output\n",
        "\n",
        "# Flatten the output layer to 1 dimension\n",
        "x = layers.Flatten()(last_output)\n",
        "# Add a fully connected layer with 1,024 hidden units and ReLU activation\n",
        "x = layers.Dense(1024, activation='relu')(x)\n",
        "# Add a dropout rate of 0.2\n",
        "x = layers.Dropout(0.2)(x)                  \n",
        "# Add a final sigmoid layer for classification\n",
        "x = layers.Dense  (1, activation='sigmoid')(x)           \n",
        "\n",
        "model = Model( pre_trained_model.input, x) \n",
        "\n",
        "model.compile(optimizer = RMSprop(lr=0.0001), \n",
        "              loss = 'binary_crossentropy', \n",
        "              metrics = ['acc'])\n",
        "\n",
        "# Add our data-augmentation parameters to ImageDataGenerator\n",
        "train_datagen = ImageDataGenerator(rescale = 1./255.,\n",
        "                                   rotation_range = 40,\n",
        "                                   width_shift_range = 0.2,\n",
        "                                   height_shift_range = 0.2,\n",
        "                                   shear_range = 0.2,\n",
        "                                   zoom_range = 0.2,\n",
        "                                   horizontal_flip = True)\n",
        "\n",
        "# Note that the validation data should not be augmented!\n",
        "test_datagen = ImageDataGenerator( rescale = 1.0/255. )\n",
        "\n",
        "# Flow training images in batches of 20 using train_datagen generator\n",
        "train_generator = train_datagen.flow_from_directory(train_dir,\n",
        "                                                    batch_size = 20,\n",
        "                                                    class_mode = 'binary', \n",
        "                                                    target_size = (150, 150))     \n",
        "\n",
        "# Flow validation images in batches of 20 using test_datagen generator\n",
        "validation_generator =  test_datagen.flow_from_directory( validation_dir,\n",
        "                                                          batch_size  = 20,\n",
        "                                                          class_mode  = 'binary', \n",
        "                                                          target_size = (150, 150))\n",
        "\n",
        "callbacks = myCallback()\n",
        "history = model.fit_generator(\n",
        "            train_generator,\n",
        "            validation_data = validation_generator,\n",
        "            steps_per_epoch = 100,\n",
        "            epochs = 100,\n",
        "            validation_steps = 50,\n",
        "            verbose = 2,\n",
        "            callbacks=[callbacks])"
      ],
      "execution_count": 0,
      "outputs": [
        {
          "output_type": "stream",
          "text": [
            "Found 2000 images belonging to 2 classes.\n",
            "Found 1000 images belonging to 2 classes.\n",
            "Epoch 1/100\n",
            "100/100 - 26s - loss: 0.4962 - acc: 0.7615 - val_loss: 0.2953 - val_acc: 0.9130\n",
            "Epoch 2/100\n",
            "100/100 - 22s - loss: 0.3945 - acc: 0.8170 - val_loss: 0.2762 - val_acc: 0.9390\n",
            "Epoch 3/100\n",
            "100/100 - 22s - loss: 0.3441 - acc: 0.8465 - val_loss: 0.2026 - val_acc: 0.9510\n",
            "Epoch 4/100\n",
            "100/100 - 22s - loss: 0.3385 - acc: 0.8535 - val_loss: 0.2662 - val_acc: 0.9530\n",
            "Epoch 5/100\n",
            "100/100 - 22s - loss: 0.3187 - acc: 0.8615 - val_loss: 0.3008 - val_acc: 0.9500\n",
            "Epoch 6/100\n",
            "100/100 - 22s - loss: 0.3152 - acc: 0.8735 - val_loss: 0.4130 - val_acc: 0.9430\n",
            "Epoch 7/100\n",
            "100/100 - 22s - loss: 0.3001 - acc: 0.8800 - val_loss: 0.3633 - val_acc: 0.9500\n",
            "Epoch 8/100\n",
            "100/100 - 22s - loss: 0.2881 - acc: 0.8865 - val_loss: 0.4969 - val_acc: 0.9460\n",
            "Epoch 9/100\n",
            "100/100 - 22s - loss: 0.3104 - acc: 0.8660 - val_loss: 0.2922 - val_acc: 0.9570\n",
            "Epoch 10/100\n",
            "100/100 - 22s - loss: 0.2947 - acc: 0.8795 - val_loss: 0.3564 - val_acc: 0.9570\n",
            "Epoch 11/100\n",
            "100/100 - 22s - loss: 0.2493 - acc: 0.8995 - val_loss: 0.5388 - val_acc: 0.9410\n",
            "Epoch 12/100\n",
            "100/100 - 22s - loss: 0.2520 - acc: 0.9025 - val_loss: 0.3507 - val_acc: 0.9570\n",
            "Epoch 13/100\n",
            "100/100 - 22s - loss: 0.2617 - acc: 0.9015 - val_loss: 0.4951 - val_acc: 0.9540\n",
            "Epoch 14/100\n",
            "100/100 - 22s - loss: 0.2781 - acc: 0.8925 - val_loss: 0.4786 - val_acc: 0.9570\n",
            "Epoch 15/100\n",
            "100/100 - 22s - loss: 0.2606 - acc: 0.8890 - val_loss: 0.6140 - val_acc: 0.9480\n",
            "Epoch 16/100\n",
            "100/100 - 22s - loss: 0.2449 - acc: 0.9035 - val_loss: 0.6119 - val_acc: 0.9480\n",
            "Epoch 17/100\n",
            "100/100 - 22s - loss: 0.2689 - acc: 0.8940 - val_loss: 0.4832 - val_acc: 0.9530\n",
            "Epoch 18/100\n",
            "100/100 - 22s - loss: 0.2930 - acc: 0.8890 - val_loss: 0.6011 - val_acc: 0.9440\n",
            "Epoch 19/100\n",
            "100/100 - 22s - loss: 0.2837 - acc: 0.8840 - val_loss: 0.5085 - val_acc: 0.9490\n",
            "Epoch 20/100\n",
            "100/100 - 22s - loss: 0.2436 - acc: 0.9110 - val_loss: 0.4084 - val_acc: 0.9550\n",
            "Epoch 21/100\n",
            "100/100 - 22s - loss: 0.2574 - acc: 0.9015 - val_loss: 0.4347 - val_acc: 0.9600\n",
            "Epoch 22/100\n",
            "100/100 - 22s - loss: 0.2479 - acc: 0.8955 - val_loss: 0.5441 - val_acc: 0.9520\n",
            "Epoch 23/100\n",
            "100/100 - 22s - loss: 0.2407 - acc: 0.9090 - val_loss: 0.4166 - val_acc: 0.9560\n",
            "Epoch 24/100\n",
            "100/100 - 22s - loss: 0.2452 - acc: 0.9005 - val_loss: 0.3864 - val_acc: 0.9620\n",
            "Epoch 25/100\n",
            "100/100 - 22s - loss: 0.2195 - acc: 0.9130 - val_loss: 0.4081 - val_acc: 0.9590\n",
            "Epoch 26/100\n",
            "100/100 - 22s - loss: 0.2354 - acc: 0.9140 - val_loss: 0.4380 - val_acc: 0.9560\n",
            "Epoch 27/100\n",
            "100/100 - 22s - loss: 0.2199 - acc: 0.9070 - val_loss: 0.4855 - val_acc: 0.9540\n",
            "Epoch 28/100\n",
            "100/100 - 22s - loss: 0.2561 - acc: 0.9000 - val_loss: 0.4152 - val_acc: 0.9570\n",
            "Epoch 29/100\n",
            "100/100 - 22s - loss: 0.2314 - acc: 0.9130 - val_loss: 0.4567 - val_acc: 0.9580\n",
            "Epoch 30/100\n",
            "100/100 - 21s - loss: 0.2454 - acc: 0.9020 - val_loss: 0.3879 - val_acc: 0.9580\n",
            "Epoch 31/100\n",
            "100/100 - 22s - loss: 0.2188 - acc: 0.9165 - val_loss: 0.6235 - val_acc: 0.9520\n",
            "Epoch 32/100\n",
            "100/100 - 22s - loss: 0.2253 - acc: 0.9135 - val_loss: 0.4769 - val_acc: 0.9560\n",
            "Epoch 33/100\n",
            "100/100 - 22s - loss: 0.2218 - acc: 0.9140 - val_loss: 0.4859 - val_acc: 0.9560\n",
            "Epoch 34/100\n",
            "100/100 - 22s - loss: 0.2292 - acc: 0.9130 - val_loss: 0.5515 - val_acc: 0.9540\n",
            "Epoch 35/100\n",
            "100/100 - 22s - loss: 0.2141 - acc: 0.9105 - val_loss: 0.6340 - val_acc: 0.9510\n",
            "Epoch 36/100\n",
            "100/100 - 22s - loss: 0.2227 - acc: 0.9260 - val_loss: 0.4814 - val_acc: 0.9540\n",
            "Epoch 37/100\n",
            "100/100 - 22s - loss: 0.2050 - acc: 0.9155 - val_loss: 0.5625 - val_acc: 0.9550\n",
            "Epoch 38/100\n",
            "100/100 - 22s - loss: 0.2169 - acc: 0.9240 - val_loss: 0.6389 - val_acc: 0.9550\n",
            "Epoch 39/100\n",
            "100/100 - 22s - loss: 0.2053 - acc: 0.9295 - val_loss: 0.4441 - val_acc: 0.9580\n",
            "Epoch 40/100\n",
            "100/100 - 22s - loss: 0.2180 - acc: 0.9200 - val_loss: 0.4602 - val_acc: 0.9570\n",
            "Epoch 41/100\n",
            "100/100 - 22s - loss: 0.2425 - acc: 0.9015 - val_loss: 0.4426 - val_acc: 0.9590\n",
            "Epoch 42/100\n",
            "100/100 - 21s - loss: 0.2214 - acc: 0.9220 - val_loss: 0.4526 - val_acc: 0.9580\n",
            "Epoch 43/100\n",
            "100/100 - 22s - loss: 0.2026 - acc: 0.9190 - val_loss: 0.4908 - val_acc: 0.9560\n",
            "Epoch 44/100\n",
            "100/100 - 22s - loss: 0.2002 - acc: 0.9210 - val_loss: 0.5731 - val_acc: 0.9590\n",
            "Epoch 45/100\n",
            "100/100 - 22s - loss: 0.2171 - acc: 0.9220 - val_loss: 0.4205 - val_acc: 0.9600\n",
            "Epoch 46/100\n",
            "100/100 - 22s - loss: 0.1918 - acc: 0.9280 - val_loss: 0.5603 - val_acc: 0.9570\n",
            "Epoch 47/100\n",
            "100/100 - 22s - loss: 0.2213 - acc: 0.9205 - val_loss: 0.6471 - val_acc: 0.9510\n",
            "Epoch 48/100\n",
            "100/100 - 22s - loss: 0.2043 - acc: 0.9245 - val_loss: 0.5139 - val_acc: 0.9560\n",
            "Epoch 49/100\n",
            "100/100 - 21s - loss: 0.2042 - acc: 0.9165 - val_loss: 0.4298 - val_acc: 0.9600\n",
            "Epoch 50/100\n",
            "100/100 - 21s - loss: 0.2047 - acc: 0.9225 - val_loss: 0.4329 - val_acc: 0.9580\n",
            "Epoch 51/100\n",
            "100/100 - 21s - loss: 0.1944 - acc: 0.9225 - val_loss: 0.4894 - val_acc: 0.9580\n",
            "Epoch 52/100\n",
            "100/100 - 21s - loss: 0.1904 - acc: 0.9260 - val_loss: 0.4594 - val_acc: 0.9600\n",
            "Epoch 53/100\n",
            "100/100 - 21s - loss: 0.2133 - acc: 0.9210 - val_loss: 0.5160 - val_acc: 0.9590\n",
            "Epoch 54/100\n",
            "100/100 - 22s - loss: 0.2075 - acc: 0.9160 - val_loss: 0.4213 - val_acc: 0.9590\n",
            "Epoch 55/100\n",
            "100/100 - 22s - loss: 0.2147 - acc: 0.9275 - val_loss: 0.4086 - val_acc: 0.9580\n",
            "Epoch 56/100\n",
            "100/100 - 22s - loss: 0.1787 - acc: 0.9310 - val_loss: 0.6561 - val_acc: 0.9570\n",
            "Epoch 57/100\n",
            "100/100 - 22s - loss: 0.1855 - acc: 0.9275 - val_loss: 0.4994 - val_acc: 0.9560\n",
            "Epoch 58/100\n",
            "100/100 - 22s - loss: 0.1953 - acc: 0.9265 - val_loss: 0.7689 - val_acc: 0.9450\n",
            "Epoch 59/100\n",
            "100/100 - 22s - loss: 0.1974 - acc: 0.9210 - val_loss: 0.4502 - val_acc: 0.9620\n",
            "Epoch 60/100\n",
            "100/100 - 22s - loss: 0.2142 - acc: 0.9220 - val_loss: 0.7032 - val_acc: 0.9470\n",
            "Epoch 61/100\n",
            "100/100 - 22s - loss: 0.1963 - acc: 0.9260 - val_loss: 0.5078 - val_acc: 0.9540\n",
            "Epoch 62/100\n",
            "100/100 - 21s - loss: 0.1921 - acc: 0.9325 - val_loss: 0.5357 - val_acc: 0.9570\n",
            "Epoch 63/100\n",
            "100/100 - 22s - loss: 0.1696 - acc: 0.9380 - val_loss: 0.5027 - val_acc: 0.9570\n",
            "Epoch 64/100\n",
            "100/100 - 22s - loss: 0.1877 - acc: 0.9295 - val_loss: 0.5243 - val_acc: 0.9580\n",
            "Epoch 65/100\n",
            "100/100 - 22s - loss: 0.1789 - acc: 0.9365 - val_loss: 0.5097 - val_acc: 0.9590\n",
            "Epoch 66/100\n",
            "100/100 - 21s - loss: 0.2099 - acc: 0.9240 - val_loss: 0.4960 - val_acc: 0.9580\n",
            "Epoch 67/100\n",
            "100/100 - 21s - loss: 0.1638 - acc: 0.9390 - val_loss: 0.7140 - val_acc: 0.9490\n",
            "Epoch 68/100\n",
            "100/100 - 21s - loss: 0.1924 - acc: 0.9270 - val_loss: 0.5507 - val_acc: 0.9570\n",
            "Epoch 69/100\n",
            "100/100 - 21s - loss: 0.1824 - acc: 0.9245 - val_loss: 0.4530 - val_acc: 0.9600\n",
            "Epoch 70/100\n",
            "100/100 - 22s - loss: 0.1734 - acc: 0.9365 - val_loss: 0.5421 - val_acc: 0.9570\n",
            "Epoch 71/100\n",
            "100/100 - 22s - loss: 0.1871 - acc: 0.9290 - val_loss: 0.4936 - val_acc: 0.9550\n",
            "Epoch 72/100\n",
            "100/100 - 22s - loss: 0.1844 - acc: 0.9305 - val_loss: 0.5879 - val_acc: 0.9540\n",
            "Epoch 73/100\n",
            "100/100 - 22s - loss: 0.1981 - acc: 0.9240 - val_loss: 0.5059 - val_acc: 0.9560\n",
            "Epoch 74/100\n",
            "100/100 - 22s - loss: 0.1558 - acc: 0.9380 - val_loss: 0.4669 - val_acc: 0.9610\n",
            "Epoch 75/100\n",
            "100/100 - 22s - loss: 0.1848 - acc: 0.9315 - val_loss: 0.5911 - val_acc: 0.9550\n",
            "Epoch 76/100\n",
            "100/100 - 22s - loss: 0.1758 - acc: 0.9360 - val_loss: 0.6659 - val_acc: 0.9540\n",
            "Epoch 77/100\n",
            "100/100 - 22s - loss: 0.1646 - acc: 0.9430 - val_loss: 0.5771 - val_acc: 0.9580\n",
            "Epoch 78/100\n",
            "100/100 - 22s - loss: 0.1815 - acc: 0.9335 - val_loss: 0.7043 - val_acc: 0.9520\n",
            "Epoch 79/100\n",
            "100/100 - 22s - loss: 0.1695 - acc: 0.9350 - val_loss: 0.9892 - val_acc: 0.9430\n",
            "Epoch 80/100\n",
            "100/100 - 22s - loss: 0.1729 - acc: 0.9325 - val_loss: 0.7082 - val_acc: 0.9530\n",
            "Epoch 81/100\n",
            "100/100 - 22s - loss: 0.1699 - acc: 0.9385 - val_loss: 0.7512 - val_acc: 0.9510\n",
            "Epoch 82/100\n",
            "100/100 - 22s - loss: 0.1886 - acc: 0.9320 - val_loss: 0.8633 - val_acc: 0.9490\n",
            "Epoch 83/100\n",
            "100/100 - 22s - loss: 0.1873 - acc: 0.9350 - val_loss: 0.6630 - val_acc: 0.9530\n",
            "Epoch 84/100\n",
            "100/100 - 22s - loss: 0.1695 - acc: 0.9390 - val_loss: 0.7652 - val_acc: 0.9520\n",
            "Epoch 85/100\n",
            "100/100 - 22s - loss: 0.1911 - acc: 0.9305 - val_loss: 0.9355 - val_acc: 0.9460\n",
            "Epoch 86/100\n",
            "100/100 - 21s - loss: 0.1796 - acc: 0.9305 - val_loss: 0.7004 - val_acc: 0.9540\n",
            "Epoch 87/100\n",
            "100/100 - 22s - loss: 0.1678 - acc: 0.9380 - val_loss: 1.1371 - val_acc: 0.9370\n",
            "Epoch 88/100\n",
            "100/100 - 21s - loss: 0.1525 - acc: 0.9410 - val_loss: 0.8567 - val_acc: 0.9470\n",
            "Epoch 89/100\n",
            "100/100 - 22s - loss: 0.1553 - acc: 0.9420 - val_loss: 0.9278 - val_acc: 0.9460\n",
            "Epoch 90/100\n",
            "100/100 - 22s - loss: 0.1958 - acc: 0.9435 - val_loss: 0.8504 - val_acc: 0.9470\n",
            "Epoch 91/100\n",
            "100/100 - 22s - loss: 0.1392 - acc: 0.9465 - val_loss: 0.7409 - val_acc: 0.9530\n",
            "Epoch 92/100\n",
            "100/100 - 21s - loss: 0.1785 - acc: 0.9325 - val_loss: 1.1248 - val_acc: 0.9390\n",
            "Epoch 93/100\n",
            "100/100 - 21s - loss: 0.1556 - acc: 0.9455 - val_loss: 0.8809 - val_acc: 0.9500\n",
            "Epoch 94/100\n",
            "100/100 - 22s - loss: 0.1573 - acc: 0.9400 - val_loss: 1.1650 - val_acc: 0.9400\n",
            "Epoch 95/100\n",
            "100/100 - 22s - loss: 0.1616 - acc: 0.9400 - val_loss: 0.8621 - val_acc: 0.9490\n",
            "Epoch 96/100\n",
            "100/100 - 22s - loss: 0.1681 - acc: 0.9380 - val_loss: 0.8373 - val_acc: 0.9510\n",
            "Epoch 97/100\n",
            "100/100 - 21s - loss: 0.1641 - acc: 0.9365 - val_loss: 0.6877 - val_acc: 0.9560\n",
            "Epoch 98/100\n",
            "100/100 - 22s - loss: 0.1619 - acc: 0.9405 - val_loss: 1.0602 - val_acc: 0.9440\n",
            "Epoch 99/100\n",
            "100/100 - 22s - loss: 0.1711 - acc: 0.9450 - val_loss: 0.7461 - val_acc: 0.9500\n",
            "Epoch 100/100\n",
            "100/100 - 22s - loss: 0.1420 - acc: 0.9535 - val_loss: 1.2258 - val_acc: 0.9350\n"
          ],
          "name": "stdout"
        }
      ]
    },
    {
      "cell_type": "code",
      "metadata": {
        "id": "v4Ttmd5omTJ-",
        "colab_type": "code",
        "outputId": "c6e97c97-23af-426a-f654-f57c5e14203c",
        "colab": {
          "base_uri": "https://localhost:8080/",
          "height": 545
        }
      },
      "source": [
        "import matplotlib.pyplot as plt\n",
        "acc = history.history['acc']\n",
        "val_acc = history.history['val_acc']\n",
        "loss = history.history['loss']\n",
        "val_loss = history.history['val_loss']\n",
        "\n",
        "epochs = range(len(acc))\n",
        "\n",
        "plt.plot(epochs, acc, 'bo', label='Training accuracy')\n",
        "plt.plot(epochs, val_acc, 'b', label='Validation accuracy')\n",
        "plt.title('Training and validation accuracy')\n",
        "\n",
        "plt.figure()\n",
        "\n",
        "plt.plot(epochs, loss, 'bo', label='Training Loss')\n",
        "plt.plot(epochs, val_loss, 'b', label='Validation Loss')\n",
        "plt.title('Training and validation loss')\n",
        "plt.legend()\n",
        "\n",
        "plt.show()"
      ],
      "execution_count": 0,
      "outputs": [
        {
          "output_type": "display_data",
          "data": {
            "image/png": "iVBORw0KGgoAAAANSUhEUgAAAYQAAAEICAYAAABfz4NwAAAABHNCSVQICAgIfAhkiAAAAAlwSFlz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\nnID/D8g+vseqQJmjAAAAAElFTkSuQmCC\n",
            "text/plain": [
              "<Figure size 432x288 with 1 Axes>"
            ]
          },
          "metadata": {
            "tags": []
          }
        },
        {
          "output_type": "display_data",
          "data": {
            "image/png": "iVBORw0KGgoAAAANSUhEUgAAAXcAAAEICAYAAACktLTqAAAABHNCSVQICAgIfAhkiAAAAAlwSFlz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\nAElFTkSuQmCC\n",
            "text/plain": [
              "<Figure size 432x288 with 1 Axes>"
            ]
          },
          "metadata": {
            "tags": []
          }
        }
      ]
    },
    {
      "cell_type": "markdown",
      "metadata": {
        "id": "sS-UzRLcd0xt",
        "colab_type": "text"
      },
      "source": [
        "**Test with custom images**"
      ]
    },
    {
      "cell_type": "code",
      "metadata": {
        "id": "RvdAUb0bv9VQ",
        "colab_type": "code",
        "colab": {}
      },
      "source": [
        "import numpy as np\n",
        "from google.colab import files\n",
        "from keras.preprocessing import image\n",
        "\n",
        "uploaded = files.upload()\n",
        "\n",
        "for fn in uploaded.keys():\n",
        " \n",
        "  # predicting images\n",
        "  path = '/content/' + fn\n",
        "  img = image.load_img(path, target_size=(150, 150))\n",
        "  x = image.img_to_array(img)\n",
        "  x = np.expand_dims(x, axis=0)\n",
        "\n",
        "  images = np.vstack([x])\n",
        "  classes = model.predict(images, batch_size=10)\n",
        "  print(classes[0])\n",
        "  if classes[0]>0.5:\n",
        "    print(fn + \" is a dog\")\n",
        "  else:\n",
        "    print(fn + \" is a cat\")"
      ],
      "execution_count": 0,
      "outputs": []
    }
  ]
}
